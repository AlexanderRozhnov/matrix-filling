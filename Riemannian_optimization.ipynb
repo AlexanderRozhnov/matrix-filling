{
 "cells": [
  {
   "cell_type": "code",
   "execution_count": 1,
   "metadata": {},
   "outputs": [],
   "source": [
    "import numpy as np\n",
    "import copy\n",
    "import scipy.sparse as scp\n",
    "from scipy.sparse import linalg\n",
    "\n",
    "import matplotlib.pyplot as plt\n",
    "%matplotlib inline\n",
    "from PIL import Image"
   ]
  },
  {
   "cell_type": "markdown",
   "metadata": {},
   "source": [
    "# Do not try to check it or use, while I will  not correct all steps"
   ]
  },
  {
   "cell_type": "code",
   "execution_count": 119,
   "metadata": {},
   "outputs": [],
   "source": [
    "# Пока сделал так, что A уже как бы проекция. Соответственно, Omega - tuple (row, col) ее ненулевых елементов\n",
    "\n",
    "class Problem:\n",
    "    # Здесь не должно быть проблем\n",
    "    def __init__(self, A, tau, rank, maxiter):\n",
    "        \"\"\"\n",
    "        Inicialization method\n",
    "        \n",
    "        Args:\n",
    "            A (np.array): given matrix\n",
    "            tau (float): tolerance, if ||grad||<=tau - early out\n",
    "            rank (int): Rank of matrix approximaИte\n",
    "        \"\"\"\n",
    "        self.tau = tau\n",
    "        self.rank = rank\n",
    "        self.maxiter = maxiter\n",
    "        \n",
    "        self.A = A\n",
    "        self.m = A.shape[0]\n",
    "        self.n = A.shape[1]\n",
    "        \n",
    "        # (row, col) of nonzero elements in A.\n",
    "        self.Omega = A.nonzero()\n",
    "    \n",
    "    # Эта проверена\n",
    "    def projection(self, Y1, Y2):\n",
    "        \"\"\"\n",
    "        Calculate projection of given matrix Z = Y1Y2.T.\n",
    "        \n",
    "        Args:\n",
    "            Y1 (np.array): First matrix\n",
    "            Y2 (np.array): Second matrix\n",
    "        \n",
    "        Returns:\n",
    "            sparse csr_matrix - projection on the Omega\n",
    "        \"\"\"\n",
    "        rows = self.Omega[0]\n",
    "        cols = self.Omega[1]\n",
    "        \n",
    "        nnz = rows.shape[0]\n",
    "        data = np.zeros(rows.shape[0])\n",
    "        \n",
    "        for it in range(0, nnz):\n",
    "            data[it] = np.dot(Y1[rows[it]].T, Y2[cols[it]])\n",
    "        \n",
    "        proj = scp.csr_matrix((data, (rows, cols)), shape=self.A.shape)\n",
    "        \n",
    "        return proj\n",
    "    \n",
    "    # Здесь вроде негде налажать\n",
    "    def grad(self, svd, Rw):\n",
    "        \"\"\"\n",
    "        Compute gradient in the current point\n",
    "        \n",
    "        Args:\n",
    "            svd (list): SVD of the current point\n",
    "            Rw (np.array): Xw - Aw\n",
    "        Returns:\n",
    "            np.array, list: Gradient and corresponding matrices [value, [M, Up, Vp]]\n",
    "        \"\"\"\n",
    "        U = svd[0]\n",
    "        V = svd[2]\n",
    "        \n",
    "        Ru = Rw.T.dot(U)\n",
    "        Rv = Rw.dot(V)\n",
    "        \n",
    "        M = np.dot(U.T, Rv)\n",
    "        \n",
    "        Up = Rv - np.dot(U, M)\n",
    "        Vp = Ru - np.dot(V, M.T)\n",
    "        \n",
    "        grad_value = U.dot(M.dot(V.T)) + Up.dot(V.T) + U.dot(Vp.T)\n",
    "        grad_list = [M, Up, Vp]\n",
    "        grad = [grad_value, grad_list]\n",
    "        \n",
    "        return grad\n",
    "    \n",
    "    def vector_transport(self, X_old_svd, X_new_svd, v_list):\n",
    "        \"\"\"\n",
    "        Calculate transport vector from previous tangent space to new tangent space\n",
    "        \n",
    "        Args:\n",
    "            X_old_svd (list): SVD in the previous point in the form [U, S, V], X = USV.T\n",
    "            X_new_svd (list): SVD in the new point in the form [U+, S+, V+], X+ = U+S+V+.T\n",
    "            v_list (list): vector, we need to transport in the form [M, Up, Vp]\n",
    "\n",
    "        Returns:\n",
    "            np.array, list: Transport vector and corresponding matrices [value, [M+, Up+, Vp+]]\n",
    "        \"\"\"\n",
    "        \n",
    "        U = X_old_svd[0]\n",
    "        S = X_old_svd[1]\n",
    "        V = X_old_svd[2]\n",
    "    \n",
    "        U_plus = X_new_svd[0]\n",
    "        S_plus = X_new_svd[1]\n",
    "        V_plus = X_new_svd[2]\n",
    "        \n",
    "        M = v_list[0]\n",
    "        Up = v_list[1]\n",
    "        Vp = v_list[2]\n",
    "        \n",
    "        Av = np.dot(V.T, V_plus)\n",
    "        Au = np.dot(U.T, U_plus)\n",
    "        \n",
    "        Bv = np.dot(Vp.T, V_plus)\n",
    "        Bu = np.dot(Up.T, U_plus)\n",
    "        \n",
    "        M_plus_one = np.dot(Au.T, np.dot(M, Av))\n",
    "        U_plus_one = np.dot(U, np.dot(M, Av))\n",
    "        V_plus_one = np.dot(V, np.dot(M.T, Au))\n",
    "        \n",
    "        M_plus_two = np.dot(Bu.T, Av)\n",
    "        U_plus_two = np.dot(Up, Av)\n",
    "        V_plus_two = np.dot(V, Bu)\n",
    "        \n",
    "        M_plus_three = np.dot(Au.T, Bv)\n",
    "        U_plus_three = np.dot(U, Bv)\n",
    "        V_plus_three = np.dot(Vp, Au)\n",
    "        \n",
    "        M_plus = M_plus_one + M_plus_two + M_plus_three\n",
    "        Up_plus = U_plus_one + U_plus_two + U_plus_three\n",
    "        Up_plus = Up_plus - np.dot(U_plus, np.dot(U_plus.T, Up_plus))\n",
    "        \n",
    "        Vp_plus = V_plus_one + V_plus_two + V_plus_three\n",
    "        Vp_plus = Vp_plus - np.dot(V_plus, np.dot(V_plus.T, Vp_plus))\n",
    "        \n",
    "        transport_value = np.dot(U_plus, np.dot(M_plus, V_plus.T)) + np.dot(Up_plus, V_plus.T) \\\n",
    "                                                        + np.dot(U_plus, Vp_plus.T)\n",
    "        \n",
    "        \n",
    "        transport_list = [M_plus, Up_plus, Vp_plus]\n",
    "        transport = [transport_value, transport_list]\n",
    "        return transport\n",
    "    \n",
    "    def conjugate_direction(self, X_old_svd, X_new_svd, xi_old, xi_new, eta_old):\n",
    "        \"\"\"\n",
    "        Compute the conjugate direction by PR+ in the new point\n",
    "        \n",
    "        Args:\n",
    "            X_old_svd (list): SVD in the previous point in the form [U, S, V], X = USV.T\n",
    "            X_new_svd (list): SVD in the new point in the form [U+, S+, V+], X+ = U+S+V+.T\n",
    "            xi_old (list): tangent vector in the previous point in the form [value, [M, Up, Vp]]\n",
    "            xi_new (list): tangent vector in the new point in the form [value, [M, Up, Vp]]\n",
    "            eta_old (list): conjugate vector in the previous point in the form [value, [M, Up, Vp]]\n",
    "\n",
    "        Returns:\n",
    "            np.array, list: conjugate vector and corresponding list in the new point [M+, Up+, Vp+]\n",
    "        \"\"\"\n",
    "        # Transport previous gradient and direction to current tangent space:\n",
    "        xi_bar = self.vector_transport(X_old_svd, X_new_svd, xi_old[1])\n",
    "        eta_bar = self.vector_transport(X_old_svd, X_new_svd, eta_old[1])\n",
    "        \n",
    "        # Compute conjugate direction\n",
    "        delta = xi_new[0] - xi_bar[0]\n",
    "        top = np.trace(np.dot(delta.T, xi_new[0]))\n",
    "        \n",
    "        # Пока с trace, переделать\n",
    "        bottom = np.trace(np.dot(xi_old[0].T, xi_old[0]))\n",
    "        betta = np.maximum(0, top/bottom)\n",
    "        #print('betta', betta)\n",
    "        eta_value = -xi_new[0] + betta*eta_bar[0]\n",
    "        \n",
    "        # Renew eta_list\n",
    "        M_eta_bar = eta_bar[1][0]\n",
    "        Up_eta_bar = eta_bar[1][1]\n",
    "        Vp_eta_bar = eta_bar[1][2]\n",
    "        \n",
    "        M_xi = xi_new[1][0]\n",
    "        Up_xi = xi_new[1][1]\n",
    "        Vp_xi = xi_new[1][2]\n",
    "        \n",
    "\n",
    "        M_eta = -M_xi + betta*M_eta_bar\n",
    "        Up_eta = -Up_xi + betta*Up_eta_bar\n",
    "        Vp_eta = -Vp_xi + betta*Vp_eta_bar\n",
    "        \n",
    "        eta_list = [M_eta, Up_eta, Vp_eta]\n",
    "        \n",
    "        eta = [eta_value, eta_list]\n",
    "        \n",
    "        # Compute angle between conjugate direction and gradient:\n",
    "        \n",
    "        top = np.trace(np.dot(eta[0].T, xi_new[0]))\n",
    "        bottom = np.sqrt(np.trace(np.dot(eta[0].T, eta[0]))*np.trace(np.dot(xi_new[0].T, xi_new[0])))\n",
    "        alpha = top/bottom\n",
    "        #print(bottom)\n",
    "        \n",
    "        # Reset to gradient if desired:\n",
    "        if np.abs(alpha) <= 0.1:\n",
    "            print('alpha: ', alpha)\n",
    "            eta_value = xi_new[0].copy()\n",
    "            eta_list = xi_new[1].copy()\n",
    "            eta = [eta_value, eta_list]\n",
    "        \n",
    "        return eta\n",
    "    \n",
    "    def compute_initial_guess(self, X_new_svd, Rw, eta_new):\n",
    "        \"\"\"\n",
    "        Compute the initial guess for line search t* = argmin_t f(X+t*eta)\n",
    "        Args:\n",
    "            X_new_svd (list): SVD in the new point in the form [U, S, V], X = USV.T\n",
    "            Rw (np.array): Rw = Xw - Aw\n",
    "            eta_new (list): conjugate vector in the new point in the form [value, [M, Up, Vp]]\n",
    "        Returns:\n",
    "            t (float)\n",
    "        \n",
    "        \"\"\"\n",
    "        R = -Rw\n",
    "        U = X_new_svd[0]\n",
    "        V = X_new_svd[2]\n",
    "        M = eta_new[1][0]\n",
    "        Up = eta_new[1][1]\n",
    "        Vp = eta_new[1][2]\n",
    "        \n",
    "        Y1 = np.dot(U, M) + Up\n",
    "        Y1 = np.hstack((Y1, U))\n",
    "        Y2 = np.hstack((V, Vp))\n",
    "        N = self.projection(Y1, Y2)\n",
    "        top = N.T.dot(R)\n",
    "        bottom = N.T.dot(N)\n",
    "        t = top.diagonal().sum() / bottom.diagonal().sum()\n",
    "        return t\n",
    "            \n",
    "    \n",
    "    def compute_retraction(self, X_new_svd, xi_new_list):\n",
    "        \"\"\"\n",
    "        Compute the retraction by metric projection\n",
    "        Args:\n",
    "            X_new_svd (list): SVD in the new point in the form [U, S, V], X = USV.T\n",
    "            xi_new_list (list): tangent vector in the new point in the form [M, Up, Vp]\n",
    "        Returns:\n",
    "            retraction (list): Retraction on Mk manifold from tangent space after some step\n",
    "                                    in the form [U, S, V], and  X = USV.T\n",
    "        \"\"\"\n",
    "        k = self.rank\n",
    "        M = xi_new_list[0]\n",
    "        Up = xi_new_list[1]\n",
    "        Vp = xi_new_list[2]\n",
    "\n",
    "        U  = X_new_svd[0]\n",
    "        Sigma = X_new_svd[1]\n",
    "        V  = X_new_svd[2]\n",
    "        \n",
    "        Zero = np.zeros((k, k))\n",
    "        (Qu, Ru) = np.linalg.qr(Up)\n",
    "        (Qv, Rv) = np.linalg.qr(Vp)\n",
    "        top = np.hstack((Sigma + M, Rv.T))\n",
    "        bottom = np.hstack((Ru, Zero))\n",
    "        S = np.vstack((top, bottom))\n",
    "        Us, Sigmas, Vs = np.linalg.svd(S)\n",
    "        \n",
    "        #e_mach = np.random.uniform(0, 0.0001, k)\n",
    "        Sigma_plus = np.diag(Sigmas[0:k] + 1e-16)\n",
    "        \n",
    "        Current = np.hstack((U, Qu))\n",
    "        U_plus = np.dot(Current, Us)[:, :k]\n",
    "\n",
    "        Current = np.hstack((V, Qv))\n",
    "        V_plus = np.dot(Current, Vs)[:, :k]\n",
    "        \n",
    "        #ans = np.dot(U_plus, np.dot(Sigma_plus, V_plus.T))\n",
    "        retraction = [U_plus, Sigma_plus, V_plus]\n",
    "        return retraction\n",
    "        \n",
    "    def Initialization(self):\n",
    "        \"\"\"\n",
    "        Compute an initialization for X_old_svd, X_new_svd, xi_old, xi_new, eta_old\n",
    "        \n",
    "        Returns:\n",
    "            X_old_svd (list): SVD in the previous point in the form [U, S, V], X = USV.T\n",
    "            X_new_svd (list): SVD in the new point in the form [U, S, V], X = USV.T\n",
    "            xi_old (list): tangent vector in the previous point in the form [value, [M, Up, Vp]]\n",
    "            eta_old (list): conjugate vector in the previous point in the form [value, [M, Up, Vp]]\n",
    "            \n",
    "        \"\"\"\n",
    "        m = self.m\n",
    "        n = self.n\n",
    "        k = self.rank\n",
    "        \n",
    "        diag = np.random.uniform(0, 1, k)\n",
    "        diag = np.sort(diag)[::-1]\n",
    "        \n",
    "        S1 = np.diag(diag)\n",
    "        U1 = np.random.uniform(0, 1, (m, k))\n",
    "        V1 = np.random.uniform(0, 1, (n, k))\n",
    "        \n",
    "        Qu1, Ru1 = np.linalg.qr(U1)\n",
    "        Qv1, Rv1 = np.linalg.qr(V1)\n",
    "        X_new_svd = [Qu1, S1, Qv1]\n",
    "    \n",
    "        Xw = self.create_Xw(X_new_svd)\n",
    "            \n",
    "        # Calculation P_w(X-A) = Xw-Aw = Xw - A\n",
    "        Rw = Xw - self.A\n",
    "            \n",
    "        # Compute the gradient and direction\n",
    "        xi_new = self.grad(X_new_svd, Rw)\n",
    "        eta_new = copy.deepcopy(xi_new)\n",
    "            \n",
    "        # Compute Retraction\n",
    "        X_cur_svd = self.line_search(X_new_svd, Rw, xi_new, eta_new)\n",
    "            \n",
    "        X_old_svd = copy.deepcopy(X_new_svd)\n",
    "        X_new_svd = copy.deepcopy(X_cur_svd)\n",
    "\n",
    "        return(X_old_svd, X_new_svd, xi_new, eta_new)\n",
    "        \n",
    "    \n",
    "    def line_search(self, X_new_svd, Rw, xi_new, eta_new):\n",
    "        \"\"\"\n",
    "        Line search for finding m and t\n",
    "        Args:\n",
    "            \n",
    "        Returns:\n",
    "        \"\"\"\n",
    "        f_old = 0.5*(linalg.norm(Rw)**2)\n",
    "        # Determine an initial step ti from the linearized problem\n",
    "        t = self.compute_initial_guess(X_new_svd, Rw, eta_new)\n",
    "        m = 0        \n",
    "        while True:\n",
    "            step = (0.5**m)*t\n",
    "            #print('step', step)\n",
    "            #print('m', m)\n",
    "            M_step = eta_new[1][0]*step\n",
    "            Up_step = eta_new[1][1]*step\n",
    "            Vp_step = eta_new[1][2]*step\n",
    "            eta_new_step = [M_step, Up_step, Vp_step]\n",
    "            \n",
    "            # Compute Retraction\n",
    "            X_cur_svd = self.compute_retraction(X_new_svd, eta_new_step)\n",
    "            Xw_new = self.create_Xw(X_cur_svd)\n",
    "            Rw_new = Xw_new - self.A\n",
    "            f_new = 0.5*(linalg.norm(Rw_new)**2)\n",
    "            print('%', f_old - f_new)\n",
    "            if (f_old - f_new >= -0.0001*step*np.trace(np.dot(eta_new[0].T, xi_new[0]))):\n",
    "                break\n",
    "            m = m + 1\n",
    "        print('m', m)\n",
    "        return X_cur_svd\n",
    "    \n",
    "    \n",
    "    def line_search1(self, X_new_svd, Rw, xi_new, eta_new):\n",
    "        \"\"\"\n",
    "        Line search for finding m and t\n",
    "        Args:\n",
    "            \n",
    "        Returns:\n",
    "        \"\"\"\n",
    "        f_old = 0.5*(linalg.norm(Rw)**2)\n",
    "        # Determine an initial step ti from the linearized problem\n",
    "        t = self.compute_initial_guess(X_new_svd, Rw, eta_new)\n",
    "        m = 0        \n",
    "        #while True:\n",
    "        step = 0.1\n",
    "            #print('step', step)\n",
    "            #print('m', m)\n",
    "        M_step = eta_new[1][0]*step\n",
    "        Up_step = eta_new[1][1]*step\n",
    "        Vp_step = eta_new[1][2]*step\n",
    "        eta_new_step = [M_step, Up_step, Vp_step]\n",
    "            \n",
    "        # Compute Retraction\n",
    "        X_cur_svd = self.compute_retraction(X_new_svd, eta_new_step)\n",
    "        Xw_new = self.create_Xw(X_cur_svd)\n",
    "        Rw_new = Xw_new - self.A\n",
    "        f_new = 0.5*(linalg.norm(Rw_new)**2)\n",
    "        print('%', f_old - f_new)\n",
    "        #    if (f_old - f_new >= -0.0001*step*np.trace(np.dot(eta_new[0].T, xi_new[0]))):\n",
    "        #        break\n",
    "        #    m = m + 1\n",
    "        print('m', m)\n",
    "        return X_cur_svd\n",
    "    \n",
    "    def create_Xw(self, X_svd):\n",
    "        \"\"\"\n",
    "        Take svd decomposition of X in the form [U, Sigma, V]\n",
    "        and calculate projection Xw\n",
    "        Args:\n",
    "            Xw (sparse): Projection\n",
    "        \"\"\"\n",
    "        # Projection of X\n",
    "        Y1 = np.dot(X_svd[0], X_svd[1])\n",
    "        Y2 = X_svd[2]\n",
    "        Xw = self.projection(Y1, Y2)\n",
    "        return(Xw)\n",
    "    \n",
    "    def LRGeomCG(self):\n",
    "        \n",
    "        residuals = []\n",
    "        X_old_svd, X_new_svd, xi_old, eta_old = self.Initialization()\n",
    "        iters=0\n",
    "        while True:\n",
    "            if(iters > self.maxiter):\n",
    "                break\n",
    "            print('Num_iteration:', iters)\n",
    "            iters+=1\n",
    "\n",
    "            \n",
    "            # Calculation P_w(X-A) = Xw-Aw = Xw - A\n",
    "            Xw = self.create_Xw(X_new_svd)\n",
    "            Rw = Xw - self.A\n",
    "            \n",
    "            # Compute the gradient\n",
    "            xi_new = self.grad(X_new_svd, Rw)\n",
    "            \n",
    "            # Check convergence\n",
    "            if np.linalg.norm(xi_new[0]) <= self.tau:\n",
    "                break\n",
    "            \n",
    "            # Compute a conjugate direction by PR+\n",
    "            eta_new = self.conjugate_direction(X_old_svd, X_new_svd, xi_old, xi_new, eta_old)\n",
    "            \n",
    "            # Compute Retraction\n",
    "            X_cur_svd = self.line_search(X_new_svd, Rw, xi_new, eta_new)\n",
    "            \n",
    "            # Renew X_old_svd and X_new_svd\n",
    "            X_old_svd = copy.deepcopy(X_new_svd)\n",
    "            X_new_svd = copy.deepcopy(X_cur_svd)\n",
    "            \n",
    "            # Renew xi_old and eta_new\n",
    "            xi_old = copy.deepcopy(xi_new)\n",
    "            eta_old = copy.deepcopy(eta_new)\n",
    "            \n",
    "            ################\n",
    "            #Проверка, что мы всегда на многообразии\n",
    "            U = X_new_svd[0]\n",
    "            S = X_new_svd[1]\n",
    "            V = X_new_svd[2]\n",
    "            Ans = U.dot(S.dot(V.T))\n",
    "            #print('rank:', np.linalg.matrix_rank(Ans))\n",
    "            ################\n",
    "            # Calculate residuals\n",
    "            Xw = self.create_Xw(X_new_svd)\n",
    "            Rw = Xw - self.A\n",
    "            cur_res = 0.5*(linalg.norm(Rw)**2)\n",
    "            residuals.append(cur_res)\n",
    "            \n",
    "        self.residuals = residuals\n",
    "        self.approx = copy.deepcopy(X_new_svd)\n",
    "        pass"
   ]
  },
  {
   "cell_type": "code",
   "execution_count": null,
   "metadata": {},
   "outputs": [],
   "source": []
  },
  {
   "cell_type": "markdown",
   "metadata": {},
   "source": [
    "# Debag"
   ]
  },
  {
   "cell_type": "code",
   "execution_count": 120,
   "metadata": {},
   "outputs": [
    {
     "data": {
      "text/plain": [
       "<100x100 sparse matrix of type '<class 'numpy.float64'>'\n",
       "\twith 1000 stored elements (20 diagonals) in DIAgonal format>"
      ]
     },
     "execution_count": 120,
     "metadata": {},
     "output_type": "execute_result"
    }
   ],
   "source": [
    "diags = np.arange(-99, 100, 10)\n",
    "A = scp.diags(diagonals=np.ones(diags.size), offsets=diags, shape=(100, 100))\n",
    "A"
   ]
  },
  {
   "cell_type": "code",
   "execution_count": 121,
   "metadata": {},
   "outputs": [
    {
     "data": {
      "image/png": "[encoded data removed]",
      "text/plain": [
       "<matplotlib.figure.Figure at 0x115e58400>"
      ]
     },
     "metadata": {},
     "output_type": "display_data"
    }
   ],
   "source": [
    "plt.imshow(A.toarray())\n",
    "plt.show()"
   ]
  },
  {
   "cell_type": "code",
   "execution_count": 137,
   "metadata": {},
   "outputs": [],
   "source": [
    "np.random.seed(123)\n",
    "problem = Problem(A, tau=1e-8, rank=10, maxiter=5)"
   ]
  },
  {
   "cell_type": "code",
   "execution_count": 138,
   "metadata": {},
   "outputs": [
    {
     "data": {
      "text/plain": [
       "{'divide': 'raise', 'invalid': 'raise', 'over': 'raise', 'under': 'raise'}"
      ]
     },
     "execution_count": 138,
     "metadata": {},
     "output_type": "execute_result"
    }
   ],
   "source": [
    "np.seterr(all='raise')"
   ]
  },
  {
   "cell_type": "code",
   "execution_count": 139,
   "metadata": {},
   "outputs": [
    {
     "name": "stdout",
     "output_type": "stream",
     "text": [
      "% 70.7452418116\n",
      "m 0\n",
      "Num_iteration: 0\n",
      "% 55.6134602288\n",
      "m 0\n",
      "Num_iteration: 1\n",
      "% -39.0609330618\n",
      "% 6.10105812273\n",
      "m 1\n",
      "Num_iteration: 2\n",
      "% -74.0452110344\n",
      "% 36.9942921234\n",
      "m 1\n",
      "Num_iteration: 3\n",
      "% -266.827052685\n",
      "% 56.3073506758\n",
      "m 1\n",
      "Num_iteration: 4\n",
      "% -251.546079567\n",
      "% -146.322993617\n",
      "% -64.5776044049\n",
      "% -26.3693858477\n",
      "% -18.0329194043\n",
      "% -5.54594620075\n",
      "% -1.99687850531\n",
      "% -1.12260874161\n",
      "% -0.554903840208\n",
      "% -0.275843697286\n",
      "% -0.137518820142\n",
      "% -0.0686585337685\n",
      "% -0.0343040330634\n",
      "% -0.0171457062429\n",
      "% -0.00696861511983\n",
      "% -0.00348393422433\n",
      "% -0.00174187377547\n",
      "% -0.000870913553399\n",
      "% -0.000435450942803\n",
      "% -0.000217724012998\n",
      "% -0.000108861641763\n",
      "% -5.44307299606e-05\n",
      "% -2.72153422998e-05\n",
      "% -1.36076655508e-05\n",
      "% -6.80383135432e-06\n",
      "% -3.40191542136e-06\n",
      "% -1.7009573412e-06\n",
      "% -8.50478784287e-07\n",
      "% -4.25232030921e-07\n",
      "% -2.12616043882e-07\n",
      "% -1.06305833469e-07\n",
      "% -5.31503587808e-08\n",
      "% -2.65726498583e-08\n",
      "% -1.32841364575e-08\n",
      "% -6.63987975713e-09\n",
      "% -3.31789351549e-09\n",
      "% -1.65687197295e-09\n",
      "% -8.23547452455e-10\n",
      "% -4.09386302636e-10\n",
      "% -2.02703631658e-10\n",
      "% -9.69180291577e-11\n",
      "% -4.59863258584e-11\n",
      "% -2.12025952351e-11\n",
      "% -8.98126018001e-12\n",
      "% -4.88853402203e-12\n",
      "% -1.25055521494e-12\n",
      "% -1.08002495836e-12\n",
      "% -4.54747350886e-13\n",
      "% -4.54747350886e-13\n",
      "% -1.70530256582e-13\n",
      "% 2.27373675443e-13\n",
      "m 50\n",
      "Num_iteration: 5\n",
      "% -196.591707602\n",
      "% -146.322993617\n",
      "% -64.5776044049\n",
      "% -26.3693858477\n",
      "% -18.0329194043\n",
      "% -5.54594620075\n",
      "% -1.99687850531\n",
      "% -0.837869679793\n",
      "% -0.412739038542\n",
      "% -0.204813726456\n",
      "% -0.102017096843\n",
      "% -0.0509110068914\n",
      "% -0.0254311057182\n",
      "% -0.0127094518934\n",
      "% -0.0091161653184\n",
      "% -0.00455769416152\n",
      "% -0.00227874995295\n",
      "% -0.00113935069379\n",
      "% -0.000569669276445\n",
      "% -0.000284833120361\n",
      "% -0.000142416180893\n",
      "% -7.12079952905e-05\n",
      "% -3.56039742542e-05\n",
      "% -1.78019809596e-05\n",
      "% -8.9009893145e-06\n",
      "% -4.45049408881e-06\n",
      "% -2.22524698756e-06\n",
      "% -1.11262346536e-06\n",
      "% -5.56304485144e-07\n",
      "% -2.78152640476e-07\n",
      "% -1.39073449645e-07\n",
      "% -6.95343942425e-08\n",
      "% -3.47641275766e-08\n",
      "% -1.73801595338e-08\n",
      "% -8.68743654792e-09\n",
      "% -4.34158664575e-09\n",
      "% -2.16891749005e-09\n",
      "% -1.07928599391e-09\n",
      "% -5.37227151653e-10\n",
      "% -2.66595634457e-10\n",
      "% -1.28920873976e-10\n",
      "% -6.23003870714e-11\n",
      "% -2.92743607133e-11\n",
      "% -1.31876731757e-11\n",
      "% -6.65068000671e-12\n",
      "% -2.95585778076e-12\n",
      "% -8.52651282912e-13\n",
      "% -1.08002495836e-12\n",
      "% -2.27373675443e-13\n",
      "% -2.27373675443e-13\n",
      "% -1.13686837722e-13\n",
      "% 5.68434188608e-14\n",
      "m 51\n"
     ]
    }
   ],
   "source": [
    "problem.LRGeomCG()"
   ]
  },
  {
   "cell_type": "code",
   "execution_count": 140,
   "metadata": {},
   "outputs": [
    {
     "data": {
      "text/plain": [
       "10"
      ]
     },
     "execution_count": 140,
     "metadata": {},
     "output_type": "execute_result"
    }
   ],
   "source": [
    "U = problem.approx[0]\n",
    "S = problem.approx[1]\n",
    "V = problem.approx[2]\n",
    "Ans = U.dot(S.dot(V.T))\n",
    "np.linalg.matrix_rank(Ans)"
   ]
  },
  {
   "cell_type": "code",
   "execution_count": 141,
   "metadata": {},
   "outputs": [
    {
     "data": {
      "image/png": "[encoded data removed]",
      "text/plain": [
       "<matplotlib.figure.Figure at 0x115c172e8>"
      ]
     },
     "metadata": {},
     "output_type": "display_data"
    }
   ],
   "source": [
    "plt.imshow(Ans)\n",
    "plt.colorbar()\n",
    "plt.show()"
   ]
  },
  {
   "cell_type": "code",
   "execution_count": 142,
   "metadata": {},
   "outputs": [],
   "source": [
    "Xw = problem.create_Xw(problem.approx)\n",
    "Aw = problem.A\n",
    "Rw = Xw - Aw"
   ]
  },
  {
   "cell_type": "code",
   "execution_count": 143,
   "metadata": {},
   "outputs": [
    {
     "data": {
      "text/plain": [
       "266.67522874336373"
      ]
     },
     "execution_count": 143,
     "metadata": {},
     "output_type": "execute_result"
    }
   ],
   "source": [
    "0.5*(linalg.norm(Rw)**2)"
   ]
  },
  {
   "cell_type": "code",
   "execution_count": 144,
   "metadata": {},
   "outputs": [
    {
     "data": {
      "image/png": "[encoded data removed]",
      "text/plain": [
       "<matplotlib.figure.Figure at 0x115cf8198>"
      ]
     },
     "metadata": {},
     "output_type": "display_data"
    }
   ],
   "source": [
    "plt.plot(problem.residuals)\n",
    "plt.yscale('log')"
   ]
  },
  {
   "cell_type": "code",
   "execution_count": 145,
   "metadata": {},
   "outputs": [
    {
     "data": {
      "text/plain": [
       "[366.07792966531645,\n",
       " 359.97687154258665,\n",
       " 322.98257941916694,\n",
       " 266.67522874336402,\n",
       " 266.67522874336379,\n",
       " 266.67522874336373]"
      ]
     },
     "execution_count": 145,
     "metadata": {},
     "output_type": "execute_result"
    }
   ],
   "source": [
    "problem.residuals"
   ]
  },
  {
   "cell_type": "markdown",
   "metadata": {},
   "source": [
    "# Block-diag"
   ]
  },
  {
   "cell_type": "code",
   "execution_count": 80,
   "metadata": {},
   "outputs": [],
   "source": [
    "np.random.seed(123)\n",
    "k = 5\n",
    "m = 7\n",
    "n = 4\n",
    "diag = np.random.uniform(0, 1, k)\n",
    "diag = np.sort(diag)[::-1]\n",
    "        \n",
    "S1 = np.diag(diag)\n",
    "U1 = np.random.uniform(0, 1, (m, k))\n",
    "V1 = np.random.uniform(0, 1, (n, k))\n",
    "\n",
    "Y1 = np.dot(U1, S1)\n",
    "Y2 = V1"
   ]
  },
  {
   "cell_type": "code",
   "execution_count": 81,
   "metadata": {},
   "outputs": [],
   "source": [
    "Omega = [np.array([0, 0, 2, 3, 4]), np.array([0, 1, 1, 2, 2])]"
   ]
  },
  {
   "cell_type": "code",
   "execution_count": 82,
   "metadata": {},
   "outputs": [],
   "source": [
    "def projection(Y1, Y2, Omega):\n",
    "\n",
    "    rows = Omega[0]\n",
    "    cols = Omega[1]        \n",
    "        \n",
    "    nnz = rows.shape[0]\n",
    "    data = np.zeros(rows.shape[0])\n",
    "        \n",
    "    for it in range(0, nnz):\n",
    "        data[it] = np.dot(Y1[rows[it]].T, Y2[cols[it]])\n",
    "        \n",
    "    proj = scp.csr_matrix((data, (rows, cols)), shape=(5,4))\n",
    "        \n",
    "    return proj"
   ]
  },
  {
   "cell_type": "code",
   "execution_count": 83,
   "metadata": {},
   "outputs": [],
   "source": [
    "proj = projection(Y1, Y2, Omega)"
   ]
  },
  {
   "cell_type": "code",
   "execution_count": 84,
   "metadata": {},
   "outputs": [
    {
     "data": {
      "text/plain": [
       "array([[ 0.52285372,  0.9043002 ,  0.        ,  0.        ],\n",
       "       [ 0.        ,  0.        ,  0.        ,  0.        ],\n",
       "       [ 0.        ,  0.44266464,  0.        ,  0.        ],\n",
       "       [ 0.        ,  0.        ,  0.93626166,  0.        ],\n",
       "       [ 0.        ,  0.        ,  0.40700982,  0.        ]])"
      ]
     },
     "execution_count": 84,
     "metadata": {},
     "output_type": "execute_result"
    }
   ],
   "source": [
    "proj.toarray()"
   ]
  },
  {
   "cell_type": "code",
   "execution_count": 85,
   "metadata": {},
   "outputs": [],
   "source": [
    "def update_Z_proj(Y1, Y2, Omega):\n",
    "    U = Y1\n",
    "    Vt = Y2.T\n",
    "    \n",
    "    proj_data = np.empty(Omega[0].size)\n",
    "    for i in range(Omega[0].size):\n",
    "         proj_data[i] = U[Omega[0][i], :].dot(Vt[:, Omega[1][i]])\n",
    "    Z_proj = scp.csr_matrix((proj_data, Omega), (5, 4))\n",
    "    return Z_proj"
   ]
  },
  {
   "cell_type": "code",
   "execution_count": 86,
   "metadata": {},
   "outputs": [],
   "source": [
    "Z_proj = update_Z_proj(Y1, Y2, Omega)"
   ]
  },
  {
   "cell_type": "code",
   "execution_count": 87,
   "metadata": {},
   "outputs": [
    {
     "data": {
      "text/plain": [
       "array([[ 0.52285372,  0.9043002 ,  0.        ,  0.        ],\n",
       "       [ 0.        ,  0.        ,  0.        ,  0.        ],\n",
       "       [ 0.        ,  0.44266464,  0.        ,  0.        ],\n",
       "       [ 0.        ,  0.        ,  0.93626166,  0.        ],\n",
       "       [ 0.        ,  0.        ,  0.40700982,  0.        ]])"
      ]
     },
     "execution_count": 87,
     "metadata": {},
     "output_type": "execute_result"
    }
   ],
   "source": [
    "Z_proj.toarray()"
   ]
  },
  {
   "cell_type": "code",
   "execution_count": null,
   "metadata": {},
   "outputs": [],
   "source": []
  },
  {
   "cell_type": "code",
   "execution_count": 199,
   "metadata": {},
   "outputs": [
    {
     "data": {
      "text/plain": [
       "<3x3 sparse matrix of type '<class 'numpy.int64'>'\n",
       "\twith 6 stored elements in Compressed Sparse Row format>"
      ]
     },
     "execution_count": 199,
     "metadata": {},
     "output_type": "execute_result"
    }
   ],
   "source": [
    "row = np.array([0, 0, 1, 2, 2, 2])\n",
    "col = np.array([0, 2, 2, 0, 1, 2])\n",
    "data = np.array([1, 2, 3, 4, 5, 6])\n",
    "A = scp.csr_matrix((data, (row, col)), shape=(3, 3))\n",
    "A"
   ]
  },
  {
   "cell_type": "code",
   "execution_count": 200,
   "metadata": {},
   "outputs": [
    {
     "data": {
      "text/plain": [
       "array([[1, 0, 2],\n",
       "       [0, 0, 3],\n",
       "       [4, 5, 6]], dtype=int64)"
      ]
     },
     "execution_count": 200,
     "metadata": {},
     "output_type": "execute_result"
    }
   ],
   "source": [
    "Ad = A.toarray()\n",
    "Ad"
   ]
  },
  {
   "cell_type": "code",
   "execution_count": 201,
   "metadata": {},
   "outputs": [
    {
     "data": {
      "text/plain": [
       "<3x3 sparse matrix of type '<class 'numpy.int64'>'\n",
       "\twith 6 stored elements in Compressed Sparse Row format>"
      ]
     },
     "execution_count": 201,
     "metadata": {},
     "output_type": "execute_result"
    }
   ],
   "source": [
    "row = np.array([0, 0, 1, 2, 2, 2])\n",
    "col = np.array([0, 2, 2, 0, 1, 2])\n",
    "data = np.array([-1, 2, -1, 4, 5, -6])\n",
    "B = scp.csr_matrix((data, (row, col)), shape=(3, 3))\n",
    "B"
   ]
  },
  {
   "cell_type": "code",
   "execution_count": 204,
   "metadata": {},
   "outputs": [
    {
     "data": {
      "text/plain": [
       "array([[-1,  0,  2],\n",
       "       [ 0,  0, -1],\n",
       "       [ 4,  5, -6]], dtype=int64)"
      ]
     },
     "execution_count": 204,
     "metadata": {},
     "output_type": "execute_result"
    }
   ],
   "source": [
    "Bd = B.toarray()\n",
    "Bd"
   ]
  },
  {
   "cell_type": "code",
   "execution_count": 205,
   "metadata": {},
   "outputs": [
    {
     "data": {
      "text/plain": [
       "array([[  7,  10, -10],\n",
       "       [ 12,  15, -18],\n",
       "       [ 20,  30, -33]], dtype=int64)"
      ]
     },
     "execution_count": 205,
     "metadata": {},
     "output_type": "execute_result"
    }
   ],
   "source": [
    "Ad.dot(Bd)"
   ]
  },
  {
   "cell_type": "code",
   "execution_count": 206,
   "metadata": {},
   "outputs": [
    {
     "data": {
      "text/plain": [
       "array([[  7,  10, -10],\n",
       "       [ 12,  15, -18],\n",
       "       [ 20,  30, -33]], dtype=int64)"
      ]
     },
     "execution_count": 206,
     "metadata": {},
     "output_type": "execute_result"
    }
   ],
   "source": [
    "(A.dot(B)).toarray()"
   ]
  },
  {
   "cell_type": "code",
   "execution_count": 214,
   "metadata": {},
   "outputs": [
    {
     "data": {
      "text/plain": [
       "array([[15, 18, 21],\n",
       "       [21, 24, 27],\n",
       "       [66, 81, 96]], dtype=int64)"
      ]
     },
     "execution_count": 214,
     "metadata": {},
     "output_type": "execute_result"
    }
   ],
   "source": [
    "Cd = np.array([[1, 2, 3], [4, 5, 6], [7, 8, 9]])\n",
    "A.dot(Cd)"
   ]
  },
  {
   "cell_type": "code",
   "execution_count": 215,
   "metadata": {},
   "outputs": [
    {
     "data": {
      "text/plain": [
       "array([[15, 18, 21],\n",
       "       [21, 24, 27],\n",
       "       [66, 81, 96]], dtype=int64)"
      ]
     },
     "execution_count": 215,
     "metadata": {},
     "output_type": "execute_result"
    }
   ],
   "source": [
    "Ad.dot(Cd)"
   ]
  },
  {
   "cell_type": "code",
   "execution_count": null,
   "metadata": {},
   "outputs": [],
   "source": []
  },
  {
   "cell_type": "code",
   "execution_count": 457,
   "metadata": {},
   "outputs": [
    {
     "data": {
      "text/plain": [
       "array([0, 1, 2])"
      ]
     },
     "execution_count": 457,
     "metadata": {},
     "output_type": "execute_result"
    }
   ],
   "source": [
    "a = [np.array([1, 2, 3]), np.array([4, 5, 6])]\n",
    "b = [np.array([1, 2, 3]), np.array([1, 1, 1])]\n",
    "a[0] - b[1]"
   ]
  },
  {
   "cell_type": "code",
   "execution_count": null,
   "metadata": {},
   "outputs": [],
   "source": []
  }
 ],
 "metadata": {
  "kernelspec": {
   "display_name": "Python 3",
   "language": "python",
   "name": "python3"
  },
  "language_info": {
   "codemirror_mode": {
    "name": "ipython",
    "version": 3
   },
   "file_extension": ".py",
   "mimetype": "text/x-python",
   "name": "python",
   "nbconvert_exporter": "python",
   "pygments_lexer": "ipython3",
   "version": "3.6.3"
  }
 },
 "nbformat": 4,
 "nbformat_minor": 2
}
