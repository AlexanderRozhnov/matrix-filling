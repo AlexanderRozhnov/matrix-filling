{
 "cells": [
  {
   "cell_type": "code",
   "execution_count": 1,
   "metadata": {},
   "outputs": [],
   "source": [
    "import numpy as np\n",
    "import copy\n",
    "from scipy.sparse import csr_matrix"
   ]
  },
  {
   "cell_type": "markdown",
   "metadata": {},
   "source": [
    "# Do not try to check it or use, while I will  not correct all steps"
   ]
  },
  {
   "cell_type": "markdown",
   "metadata": {},
   "source": [
    "# Проверить арифметику для sparse матриц, которые проекции, потому что изначально я писал их для денс, переделать этот момент"
   ]
  },
  {
   "cell_type": "code",
   "execution_count": 125,
   "metadata": {},
   "outputs": [],
   "source": [
    "# Пока сделал так, что A уже как бы проекция. Соответственно, Omega - tuple (row, col) ее ненулевых елементов\n",
    "\n",
    "class Problem:\n",
    "    \n",
    "    def __init__(self, A, tau, rank):\n",
    "        \"\"\"\n",
    "        Inicialization method\n",
    "        \n",
    "        Args:\n",
    "            A (np.array): given matrix\n",
    "            tau (float): tolerance, if ||grad||<=tau - early out\n",
    "            rank (int): Rank of matrix approximate\n",
    "        \n",
    "        \"\"\"\n",
    "        self.tau = tau\n",
    "        self.rank = rank\n",
    "        \n",
    "        self.A = A\n",
    "        self.m = A.shape[0]\n",
    "        self.n = A.shape[1]\n",
    "        \n",
    "        # (row, col) of nonzero elements in A.\n",
    "        self.Omega = A.nonzero()\n",
    "        \n",
    "    def projection(self, Y1, Y2):\n",
    "        \"\"\"\n",
    "        Calculate projection of given matrix Z = Y1Y2.T.\n",
    "        \n",
    "        Args:\n",
    "            Y1 (np.array): First matrix\n",
    "            Y2 (np.array): Second matrix\n",
    "        \n",
    "        Returns:\n",
    "            sparse csr_matrix - projection on the Omega\n",
    "        \"\"\"\n",
    "        \n",
    "        rows = self.Omega[0]\n",
    "        cols = self.Omega[1]\n",
    "        \n",
    "        nnz = rows.shape[0]\n",
    "        data = np.zeros_like(rows)\n",
    "        \n",
    "        for it in range(0, nnz):\n",
    "            data[it] = np.dot(Y1[rows[it]].T, Y2[cols[it]])\n",
    "        \n",
    "        proj = csr_matrix((data, (rows, cols)), shape=self.A.shape)\n",
    "        \n",
    "        return proj\n",
    "    \n",
    "    def grad(self, svd, Rw):\n",
    "        \"\"\"\n",
    "        Compute gradient in the current point\n",
    "        \n",
    "        Args:\n",
    "            svd (list): SVD of the current point\n",
    "            Rw (np.array): Xw - Aw\n",
    "        Returns:\n",
    "            np.array, list: Gradient and corresponding matrices [value, [M, Up, Vp]]\n",
    "        \"\"\"\n",
    "        U = svd[0]\n",
    "        V = svd[2]\n",
    "        \n",
    "        Ru = Rw.T.dot(U)\n",
    "        Rv = Rw.dot(V)\n",
    "        \n",
    "        M = np.dot(U.T, Rv)\n",
    "        \n",
    "        Up = Rv - np.dot(U, M)\n",
    "        Vp = Ru - np.dot(V, M.T)\n",
    "        \n",
    "        \n",
    "        grad_value = U.dot(M.dot(V.T)) + Up.dot(V.T) + U.dot(Vp.T)\n",
    "        # Vectorizing the result\n",
    "        grad_value = grad_value\n",
    "        \n",
    "        grad_list = [M, Up, Vp]\n",
    "        grad = [grad_value, grad_list]\n",
    "        \n",
    "        return grad\n",
    "    \n",
    "    def vector_transport(self, X_old_svd, X_new_svd, v_list):\n",
    "        \"\"\"\n",
    "        Calculate transport vector from previous tangent space to new tangent space\n",
    "        \n",
    "        Args:\n",
    "            X_old_svd (list): SVD in the previous point in the form [U, S, V], X = USV.T\n",
    "            X_new_svd (list): SVD in the new point in the form [U+, S+, V+], X+ = U+S+V+.T\n",
    "            v_list (list): vector, we need to transport in the form [M, Up, Vp]\n",
    "\n",
    "        Returns:\n",
    "            np.array, list: Transport vector and corresponding matrices [value, [M+, Up+, Vp+]]\n",
    "        \"\"\"\n",
    "        \n",
    "        U = X_old_svd[0]\n",
    "        S = X_old_svd[1]\n",
    "        V = X_old_svd[2]\n",
    "    \n",
    "        U_plus = X_new_svd[0]\n",
    "        S_plus = X_new_svd[1]\n",
    "        V_plus = X_new_svd[2]\n",
    "        \n",
    "        M = v_list[0]\n",
    "        Up = v_list[1]\n",
    "        Vp = v_list[2]\n",
    "        \n",
    "        Av = np.dot(V.T, V_plus)\n",
    "        Au = np.dot(U.T, U_plus)\n",
    "        \n",
    "        Bv = np.dot(Vp.T, V_plus)\n",
    "        Bu = np.dot(Up.T, U_plus)\n",
    "        \n",
    "        M_plus_one = np.dot(Au.T, np.dot(M, Av))\n",
    "        U_plus_one = np.dot(U, np.dot(M, Av))\n",
    "        V_plus_one = np.dot(V, np.dot(M.T, Au))\n",
    "        \n",
    "        M_plus_two = np.dot(Bu.T, Av)\n",
    "        U_plus_two = np.dot(Up, Av)\n",
    "        V_plus_two = np.dot(V, Bu)\n",
    "        \n",
    "        M_plus_three = np.dot(Au.T, Bv)\n",
    "        U_plus_three = np.dot(U, Bv)\n",
    "        V_plus_three = np.dot(Vp, Au)\n",
    "        \n",
    "        M_plus = M_plus_one + M_plus_two + M_plus_three\n",
    "        Up_plus = U_plus_one + U_plus_two + U_plus_three\n",
    "        Up_plus = Up_plus - np.dot(U_plus, np.dot(U_plus.T, Up_plus))\n",
    "        \n",
    "        Vp_plus = V_plus_one + V_plus_two + V_plus_three\n",
    "        Vp_plus = Vp_plus - np.dot(V_plus, np.dot(V_plus.T, Vp_plus))\n",
    "        \n",
    "        transport_value = np.dot(U_plus, np.dot(M_plus, V_plus.T)) + np.dot(Up_plus, V_plus.T) \\\n",
    "                                                        + np.dot(U_plus, Vp_plus.T)\n",
    "        \n",
    "        # Vectorizing the result\n",
    "        #transport_value = transport_value\n",
    "        \n",
    "        transport_list = [M_plus, Up_plus, Vp_plus]\n",
    "        transport = [transport_value, transport_list]\n",
    "        return transport\n",
    "    \n",
    "    def conjugate_direction(self, X_old_svd, X_new_svd, xi_old, xi_new, eta_old):\n",
    "        \"\"\"\n",
    "        Compute the conjugate direction by PR+ in the new point\n",
    "        \n",
    "        Args:\n",
    "            X_old_svd (list): SVD in the previous point in the form [U, S, V], X = USV.T\n",
    "            X_new_svd (list): SVD in the new point in the form [U+, S+, V+], X+ = U+S+V+.T\n",
    "            xi_old (list): tangent vector in the previous point in the form [value, [M, Up, Vp]]\n",
    "            xi_new (list): tangent vector in the new point in the form [value, [M, Up, Vp]]\n",
    "            eta_old (list): conjugate vector in the previous point in the form [value, [M, Up, Vp]]\n",
    "\n",
    "        Returns:\n",
    "            np.array, list: conjugate vector and corresponding list in the new point [M+, Up+, Vp+]\n",
    "        \"\"\"\n",
    "        # Transport previous gradient and direction to current tangent space:\n",
    "        xi_bar = self.vector_transport(X_old_svd, X_new_svd, xi_old[1])\n",
    "        eta_bar = self.vector_transport(X_old_svd, X_new_svd, eta_old[1])\n",
    "        \n",
    "        # Compute conjugate direction\n",
    "        delta = xi_new[0] - xi_bar[0]\n",
    "        top = np.dot(delta.T, xi_new[0])\n",
    "        \n",
    "        # Пока с trace, переделать\n",
    "        bottom = np.trace(np.dot(xi_old[0].T, xi_old[0]))\n",
    "        betta = np.maximum(0, top/bottom)\n",
    "        eta_value = -xi_new[0] + betta*eta_bar[0]\n",
    "        \n",
    "        # Renew eta_list\n",
    "        M_eta_bar = eta_bar[1][0]\n",
    "        Up_eta_bar = eta_bar[1][1]\n",
    "        Vp_eta_bar = eta_bar[1][2]\n",
    "        \n",
    "        M_xi = xi_new[1][0]\n",
    "        Up_xi = xi_new[1][1]\n",
    "        Vp_xi = xi_new[1][2]\n",
    "        \n",
    "        M_eta = -M_xi + betta*M_eta_bar\n",
    "        Up_eta = -Up_xi + betta*Up_eta_bar\n",
    "        Vp_eta = -Vp_xi + betta*Vp_eta_bar\n",
    "        \n",
    "        eta_list = [M_eta, Up_eta, Vp_eta]\n",
    "        \n",
    "        eta = [eta_value, eta_list]\n",
    "        \n",
    "        # Compute angle between conjugate direction and gradient:\n",
    "        \n",
    "        top = np.trace(np.dot(eta[0].T, xi_new[0]))\n",
    "        bottom = np.sqrt(np.trace(np.dot(eta[0].T, eta[0]))*np.trace(np.dot(xi_new[0].T, xi_new[0])))\n",
    "        alpha = top/bottom\n",
    "        \n",
    "        # Reset to gradient if desired:\n",
    "        if alpha <= 0.1:\n",
    "            eta_value = xi[0].copy()\n",
    "            eta_list = xi_new[1].copy()\n",
    "            eta = [eta_value, eta_list]\n",
    "        \n",
    "        return eta\n",
    "    \n",
    "    def compute_initial_guess(self, X_new_svd, Rw, eta_new):\n",
    "        \"\"\"\n",
    "        Compute the initial guess for line search t* = argmin_t f(X+t*eta)\n",
    "        Args:\n",
    "            X_new_svd (list): SVD in the new point in the form [U, S, V], X = USV.T\n",
    "            Rw (np.array): Rw = Xw - Aw\n",
    "            eta_new (list): conjugate vector in the new point in the form [value, [M, Up, Vp]]\n",
    "        Returns:\n",
    "            t (float)\n",
    "        \n",
    "        \"\"\"\n",
    "        U = X_new_svd[0]\n",
    "        V = X_new_svd[2]\n",
    "        M = eta_new[1][0]\n",
    "        Up = eta_new[1][1]\n",
    "        Vp = eta_new[1][2]\n",
    "        \n",
    "        Y1 = np.dot(U, M) + Up\n",
    "        Y1 = np.hstack((Y1, U))\n",
    "        Y2 = np.hstack((V, Vp))\n",
    "        \n",
    "        N = self.projection(Y1, Y2)\n",
    "        top = N.T.dot(Rw)\n",
    "        bottom = N.T.dot(N)\n",
    "        t = top.diagonal().sum() / bottom.diagonal().sum()\n",
    "        return t\n",
    "            \n",
    "    \n",
    "    def compute_retraction(self, X_new_svd, xi_new_list):\n",
    "        \"\"\"\n",
    "        Compute the retraction by metric projection\n",
    "        Args:\n",
    "            X_new_svd (list): SVD in the new point in the form [U, S, V], X = USV.T\n",
    "            xi_new_list (list): tangent vector in the new point in the form [M, Up, Vp]\n",
    "        Returns:\n",
    "            retraction (list): Retraction on Mk manifold from tangent space after some step\n",
    "                                    in the form [U, S, V], and  X = USV.T\n",
    "        \"\"\"\n",
    "        \n",
    "        k = self.rank\n",
    "        M = xi_new_list[0]\n",
    "        Up = xi_new_list[1]\n",
    "        Vp = xi_new_list[2]\n",
    "        \n",
    "        Sigma = X_new_svd[1]\n",
    "        \n",
    "        Zero = np.zeros((k, k))\n",
    "        (Qu, Ru) = np.linalg.qr(Up)\n",
    "        (Qv, Rv) = np.linalg.qr(Vp)\n",
    "        top = np.hstack((Sigma + M, Rv.T))\n",
    "        bottom = np.hstack((Ru, Zero))\n",
    "        \n",
    "        S = np.vstack((top, bottom))\n",
    "        print(S.shape)\n",
    "        Us, Ss, Vs = np.linalg.svd(S)\n",
    "        \n",
    "        e_mach = np.random.uniform(0, 1, k)\n",
    "        S_plus = Ss[1:k, 1:k] + np.diag(e_mach)\n",
    "        \n",
    "        Current = np.hstack((U, Qu))\n",
    "        U_plus = np.dot(Current, Us)[:, 1:k]\n",
    "\n",
    "        Current = np.hstack((V, Qv))\n",
    "        U_plus = np.dot(Current, Vs)[:, 1:k]\n",
    "        \n",
    "        #ans = np.dot(U_plus, np.dot(Sigma_plus, V_plus.T))\n",
    "        retraction = [U_plus, Sigma_plus, V_plus]\n",
    "        return retraction\n",
    "        \n",
    "    \n",
    "    \n",
    "    def Initialization(self):\n",
    "        \"\"\"\n",
    "        Compute an initialization for X_old_svd, X_new_svd, xi_old, xi_new, eta_old\n",
    "        \n",
    "        Returns:\n",
    "            X_old_svd (list): SVD in the previous point in the form [U, S, V], X = USV.T\n",
    "            X_new_svd (list): SVD in the new point in the form [U, S, V], X = USV.T\n",
    "            xi_old (list): tangent vector in the previous point in the form [value, [M, Up, Vp]]\n",
    "            eta_old (list): conjugate vector in the previous point in the form [value, [M, Up, Vp]]\n",
    "            \n",
    "        \"\"\"\n",
    "        m = self.m\n",
    "        n = self.n\n",
    "        k = self.rank\n",
    "        \n",
    "        diag = np.random.uniform(0, 1, k)\n",
    "        diag = np.sort(diag)[::-1]\n",
    "        \n",
    "        S1 = np.diag(diag)\n",
    "        U1 = np.random.uniform(0, 1, (m, k))\n",
    "        V1 = np.random.uniform(0, 1, (n, k))\n",
    "        \n",
    "        Qu1, Ru1 = np.linalg.qr(U1)\n",
    "        Qv1, Rv1 = np.linalg.qr(V1)\n",
    "        \n",
    "        X_new_svd = [Qu1, S1, Qv1]\n",
    "        \n",
    "        \n",
    "        # Projection of X\n",
    "        Y1 = np.dot(X_new_svd[0], X_new_svd[1])\n",
    "        Y2 = X_new_svd[2]\n",
    "        Xw = self.projection(Y1, Y2)\n",
    "            \n",
    "        # Calculation P_w(X-A) = Xw-Aw = Xw - A\n",
    "        Rw = Xw - self.A\n",
    "            \n",
    "        # Compute the gradient and direction\n",
    "        xi_new = self.grad(X_new_svd, Rw)\n",
    "        eta_new = copy.deepcopy(xi_new)\n",
    "        \n",
    "        # Determine an initial step ti from the linearized problem\n",
    "        t = self.compute_initial_guess(X_new_svd, Rw, eta_new)\n",
    "            \n",
    "        # Performing Armijo backtracking\n",
    "        # Without it now \n",
    "            \n",
    "        # For retraction\n",
    "        m = 1\n",
    "        step = (0.5**m)*t\n",
    "        M_step = xi_new[1][0]*step\n",
    "        Up_step = xi_new[1][1]*step\n",
    "        Vp_step = xi_new[1][2]*step\n",
    "        xi_new_step = [M_step, Up_step, Vp_step]\n",
    "            \n",
    "        # Compute Retraction\n",
    "        X_cur_svd = self.compute_retraction(X_new_svd, xi_new_step)\n",
    "            \n",
    "        X_old_svd = copy.deepcopy(X_new_svd)\n",
    "        X_new_svd = copy.deepcopy(X_cur_svd)\n",
    "        \n",
    "        return(X_old_svd, X_new_svd, xi_new, eta_new)\n",
    "        \n",
    "    def LRGeomCG(self):\n",
    "        \n",
    "        X_old_svd, X_new_svd, xi_old, eta_old = self.Initialization()\n",
    "        \n",
    "        debug = 0\n",
    "        while True:\n",
    "            if(debug > 4):\n",
    "                break\n",
    "            print(debug)\n",
    "            debug+=1\n",
    "\n",
    "            # Projection of X\n",
    "            Y1 = np.dot(X_new_svd[0], X_new_svd[1])\n",
    "            Y2 = X_new_svd[2]\n",
    "            Xw = self.projection(Y1, Y2)\n",
    "            \n",
    "            # Calculation P_w(X-A) = Xw-Aw = Xw - A\n",
    "            Rw = Xw - self.A\n",
    "            \n",
    "            # Compute the gradient\n",
    "            xi_new = self.grad(X_new_svd, Rw)\n",
    "            \n",
    "            # Check convergence\n",
    "            if np.linalg.norm(xi_new[0]) <= self.tau:\n",
    "                break\n",
    "            \n",
    "            # Compute a conjugate direction by PR+\n",
    "            eta_new = self.conjugate_direction(X_old_svd, X_new_svd, xi_old, xi_new, eta_old)\n",
    "            \n",
    "            # Determine an initial step ti from the linearized problem\n",
    "            t = self.compute_initial_guess(X_new_svd, Rw, eta_new)\n",
    "            \n",
    "            # Performing Armijo backtracking\n",
    "            # Without it now \n",
    "            \n",
    "            # For retraction\n",
    "            m = 1\n",
    "            step = (0.5**m)*t\n",
    "            M_step = xi_new[1][0]*step\n",
    "            Up_step = xi_new[1][1]*step\n",
    "            Vp_step = xi_new[1][2]*step\n",
    "            xi_new_step = [M_step, Up_step, Vp_step]\n",
    "            \n",
    "            # Compute Retraction\n",
    "            X_cur_svd = self.compute_retraction(X_new_svd, xi_new_step)\n",
    "            \n",
    "            X_old_svd = copy.deepcopy(X_new_svd)\n",
    "            X_new_svd = copy.deepcopy(X_cur_svd)\n",
    "        \n",
    "        self.approx = copy.deepcopy(X_new_svd)"
   ]
  },
  {
   "cell_type": "markdown",
   "metadata": {},
   "source": [
    "# Debag"
   ]
  },
  {
   "cell_type": "code",
   "execution_count": 9,
   "metadata": {},
   "outputs": [],
   "source": [
    "from scipy import sparse\n",
    "import matplotlib.pyplot as plt\n",
    "from PIL import Image"
   ]
  },
  {
   "cell_type": "code",
   "execution_count": 13,
   "metadata": {},
   "outputs": [
    {
     "data": {
      "text/plain": [
       "<100x100 sparse matrix of type '<class 'numpy.float64'>'\n",
       "\twith 1000 stored elements (20 diagonals) in DIAgonal format>"
      ]
     },
     "execution_count": 13,
     "metadata": {},
     "output_type": "execute_result"
    }
   ],
   "source": [
    "diags = np.arange(-99, 100, 10)\n",
    "A = sparse.diags(diagonals=np.ones(diags.size), offsets=diags, shape=(100, 100))\n",
    "A"
   ]
  },
  {
   "cell_type": "code",
   "execution_count": 14,
   "metadata": {},
   "outputs": [
    {
     "data": {
      "image/png": "[encoded data removed]",
      "text/plain": [
       "<matplotlib.figure.Figure at 0x10051acf8>"
      ]
     },
     "metadata": {},
     "output_type": "display_data"
    }
   ],
   "source": [
    "plt.imshow(A.toarray())\n",
    "plt.show()"
   ]
  },
  {
   "cell_type": "code",
   "execution_count": 126,
   "metadata": {},
   "outputs": [],
   "source": [
    "problem = Problem(A, tau=1e-8, rank=10)"
   ]
  },
  {
   "cell_type": "code",
   "execution_count": 127,
   "metadata": {},
   "outputs": [
    {
     "name": "stdout",
     "output_type": "stream",
     "text": [
      "(20, 20)\n"
     ]
    },
    {
     "name": "stderr",
     "output_type": "stream",
     "text": [
      "/Users/sergeymakarychev/anaconda/lib/python3.6/site-packages/ipykernel_launcher.py:222: RuntimeWarning: invalid value encountered in double_scalars\n"
     ]
    },
    {
     "ename": "LinAlgError",
     "evalue": "SVD did not converge",
     "output_type": "error",
     "traceback": [
      "\u001b[0;31m---------------------------------------------------------------------------\u001b[0m",
      "\u001b[0;31mLinAlgError\u001b[0m                               Traceback (most recent call last)",
      "\u001b[0;32m<ipython-input-127-fa6042fd1701>\u001b[0m in \u001b[0;36m<module>\u001b[0;34m()\u001b[0m\n\u001b[0;32m----> 1\u001b[0;31m \u001b[0mans\u001b[0m \u001b[0;34m=\u001b[0m \u001b[0mproblem\u001b[0m\u001b[0;34m.\u001b[0m\u001b[0mLRGeomCG\u001b[0m\u001b[0;34m(\u001b[0m\u001b[0;34m)\u001b[0m\u001b[0;34m\u001b[0m\u001b[0m\n\u001b[0m",
      "\u001b[0;32m<ipython-input-125-587161cb7425>\u001b[0m in \u001b[0;36mLRGeomCG\u001b[0;34m(self)\u001b[0m\n\u001b[1;32m    331\u001b[0m     \u001b[0;32mdef\u001b[0m \u001b[0mLRGeomCG\u001b[0m\u001b[0;34m(\u001b[0m\u001b[0mself\u001b[0m\u001b[0;34m)\u001b[0m\u001b[0;34m:\u001b[0m\u001b[0;34m\u001b[0m\u001b[0m\n\u001b[1;32m    332\u001b[0m \u001b[0;34m\u001b[0m\u001b[0m\n\u001b[0;32m--> 333\u001b[0;31m         \u001b[0mX_old_svd\u001b[0m\u001b[0;34m,\u001b[0m \u001b[0mX_new_svd\u001b[0m\u001b[0;34m,\u001b[0m \u001b[0mxi_old\u001b[0m\u001b[0;34m,\u001b[0m \u001b[0meta_old\u001b[0m \u001b[0;34m=\u001b[0m \u001b[0mself\u001b[0m\u001b[0;34m.\u001b[0m\u001b[0mInitialization\u001b[0m\u001b[0;34m(\u001b[0m\u001b[0;34m)\u001b[0m\u001b[0;34m\u001b[0m\u001b[0m\n\u001b[0m\u001b[1;32m    334\u001b[0m \u001b[0;34m\u001b[0m\u001b[0m\n\u001b[1;32m    335\u001b[0m         \u001b[0mdebug\u001b[0m \u001b[0;34m=\u001b[0m \u001b[0;36m0\u001b[0m\u001b[0;34m\u001b[0m\u001b[0m\n",
      "\u001b[0;32m<ipython-input-125-587161cb7425>\u001b[0m in \u001b[0;36mInitialization\u001b[0;34m(self)\u001b[0m\n\u001b[1;32m    322\u001b[0m \u001b[0;34m\u001b[0m\u001b[0m\n\u001b[1;32m    323\u001b[0m         \u001b[0;31m# Compute Retraction\u001b[0m\u001b[0;34m\u001b[0m\u001b[0;34m\u001b[0m\u001b[0m\n\u001b[0;32m--> 324\u001b[0;31m         \u001b[0mX_cur_svd\u001b[0m \u001b[0;34m=\u001b[0m \u001b[0mself\u001b[0m\u001b[0;34m.\u001b[0m\u001b[0mcompute_retraction\u001b[0m\u001b[0;34m(\u001b[0m\u001b[0mX_new_svd\u001b[0m\u001b[0;34m,\u001b[0m \u001b[0mxi_new_step\u001b[0m\u001b[0;34m)\u001b[0m\u001b[0;34m\u001b[0m\u001b[0m\n\u001b[0m\u001b[1;32m    325\u001b[0m \u001b[0;34m\u001b[0m\u001b[0m\n\u001b[1;32m    326\u001b[0m         \u001b[0mX_old_svd\u001b[0m \u001b[0;34m=\u001b[0m \u001b[0mcopy\u001b[0m\u001b[0;34m.\u001b[0m\u001b[0mdeepcopy\u001b[0m\u001b[0;34m(\u001b[0m\u001b[0mX_new_svd\u001b[0m\u001b[0;34m)\u001b[0m\u001b[0;34m\u001b[0m\u001b[0m\n",
      "\u001b[0;32m<ipython-input-125-587161cb7425>\u001b[0m in \u001b[0;36mcompute_retraction\u001b[0;34m(self, X_new_svd, xi_new_list)\u001b[0m\n\u001b[1;32m    250\u001b[0m         \u001b[0mS\u001b[0m \u001b[0;34m=\u001b[0m \u001b[0mnp\u001b[0m\u001b[0;34m.\u001b[0m\u001b[0mvstack\u001b[0m\u001b[0;34m(\u001b[0m\u001b[0;34m(\u001b[0m\u001b[0mtop\u001b[0m\u001b[0;34m,\u001b[0m \u001b[0mbottom\u001b[0m\u001b[0;34m)\u001b[0m\u001b[0;34m)\u001b[0m\u001b[0;34m\u001b[0m\u001b[0m\n\u001b[1;32m    251\u001b[0m         \u001b[0mprint\u001b[0m\u001b[0;34m(\u001b[0m\u001b[0mS\u001b[0m\u001b[0;34m.\u001b[0m\u001b[0mshape\u001b[0m\u001b[0;34m)\u001b[0m\u001b[0;34m\u001b[0m\u001b[0m\n\u001b[0;32m--> 252\u001b[0;31m         \u001b[0mUs\u001b[0m\u001b[0;34m,\u001b[0m \u001b[0mSs\u001b[0m\u001b[0;34m,\u001b[0m \u001b[0mVs\u001b[0m \u001b[0;34m=\u001b[0m \u001b[0mnp\u001b[0m\u001b[0;34m.\u001b[0m\u001b[0mlinalg\u001b[0m\u001b[0;34m.\u001b[0m\u001b[0msvd\u001b[0m\u001b[0;34m(\u001b[0m\u001b[0mS\u001b[0m\u001b[0;34m)\u001b[0m\u001b[0;34m\u001b[0m\u001b[0m\n\u001b[0m\u001b[1;32m    253\u001b[0m \u001b[0;34m\u001b[0m\u001b[0m\n\u001b[1;32m    254\u001b[0m         \u001b[0me_mach\u001b[0m \u001b[0;34m=\u001b[0m \u001b[0mnp\u001b[0m\u001b[0;34m.\u001b[0m\u001b[0mrandom\u001b[0m\u001b[0;34m.\u001b[0m\u001b[0muniform\u001b[0m\u001b[0;34m(\u001b[0m\u001b[0;36m0\u001b[0m\u001b[0;34m,\u001b[0m \u001b[0;36m1\u001b[0m\u001b[0;34m,\u001b[0m \u001b[0mk\u001b[0m\u001b[0;34m)\u001b[0m\u001b[0;34m\u001b[0m\u001b[0m\n",
      "\u001b[0;32m~/anaconda/lib/python3.6/site-packages/numpy/linalg/linalg.py\u001b[0m in \u001b[0;36msvd\u001b[0;34m(a, full_matrices, compute_uv)\u001b[0m\n\u001b[1;32m   1387\u001b[0m \u001b[0;34m\u001b[0m\u001b[0m\n\u001b[1;32m   1388\u001b[0m         \u001b[0msignature\u001b[0m \u001b[0;34m=\u001b[0m \u001b[0;34m'D->DdD'\u001b[0m \u001b[0;32mif\u001b[0m \u001b[0misComplexType\u001b[0m\u001b[0;34m(\u001b[0m\u001b[0mt\u001b[0m\u001b[0;34m)\u001b[0m \u001b[0;32melse\u001b[0m \u001b[0;34m'd->ddd'\u001b[0m\u001b[0;34m\u001b[0m\u001b[0m\n\u001b[0;32m-> 1389\u001b[0;31m         \u001b[0mu\u001b[0m\u001b[0;34m,\u001b[0m \u001b[0ms\u001b[0m\u001b[0;34m,\u001b[0m \u001b[0mvt\u001b[0m \u001b[0;34m=\u001b[0m \u001b[0mgufunc\u001b[0m\u001b[0;34m(\u001b[0m\u001b[0ma\u001b[0m\u001b[0;34m,\u001b[0m \u001b[0msignature\u001b[0m\u001b[0;34m=\u001b[0m\u001b[0msignature\u001b[0m\u001b[0;34m,\u001b[0m \u001b[0mextobj\u001b[0m\u001b[0;34m=\u001b[0m\u001b[0mextobj\u001b[0m\u001b[0;34m)\u001b[0m\u001b[0;34m\u001b[0m\u001b[0m\n\u001b[0m\u001b[1;32m   1390\u001b[0m         \u001b[0mu\u001b[0m \u001b[0;34m=\u001b[0m \u001b[0mu\u001b[0m\u001b[0;34m.\u001b[0m\u001b[0mastype\u001b[0m\u001b[0;34m(\u001b[0m\u001b[0mresult_t\u001b[0m\u001b[0;34m,\u001b[0m \u001b[0mcopy\u001b[0m\u001b[0;34m=\u001b[0m\u001b[0;32mFalse\u001b[0m\u001b[0;34m)\u001b[0m\u001b[0;34m\u001b[0m\u001b[0m\n\u001b[1;32m   1391\u001b[0m         \u001b[0ms\u001b[0m \u001b[0;34m=\u001b[0m \u001b[0ms\u001b[0m\u001b[0;34m.\u001b[0m\u001b[0mastype\u001b[0m\u001b[0;34m(\u001b[0m\u001b[0m_realType\u001b[0m\u001b[0;34m(\u001b[0m\u001b[0mresult_t\u001b[0m\u001b[0;34m)\u001b[0m\u001b[0;34m,\u001b[0m \u001b[0mcopy\u001b[0m\u001b[0;34m=\u001b[0m\u001b[0;32mFalse\u001b[0m\u001b[0;34m)\u001b[0m\u001b[0;34m\u001b[0m\u001b[0m\n",
      "\u001b[0;32m~/anaconda/lib/python3.6/site-packages/numpy/linalg/linalg.py\u001b[0m in \u001b[0;36m_raise_linalgerror_svd_nonconvergence\u001b[0;34m(err, flag)\u001b[0m\n\u001b[1;32m     97\u001b[0m \u001b[0;34m\u001b[0m\u001b[0m\n\u001b[1;32m     98\u001b[0m \u001b[0;32mdef\u001b[0m \u001b[0m_raise_linalgerror_svd_nonconvergence\u001b[0m\u001b[0;34m(\u001b[0m\u001b[0merr\u001b[0m\u001b[0;34m,\u001b[0m \u001b[0mflag\u001b[0m\u001b[0;34m)\u001b[0m\u001b[0;34m:\u001b[0m\u001b[0;34m\u001b[0m\u001b[0m\n\u001b[0;32m---> 99\u001b[0;31m     \u001b[0;32mraise\u001b[0m \u001b[0mLinAlgError\u001b[0m\u001b[0;34m(\u001b[0m\u001b[0;34m\"SVD did not converge\"\u001b[0m\u001b[0;34m)\u001b[0m\u001b[0;34m\u001b[0m\u001b[0m\n\u001b[0m\u001b[1;32m    100\u001b[0m \u001b[0;34m\u001b[0m\u001b[0m\n\u001b[1;32m    101\u001b[0m \u001b[0;32mdef\u001b[0m \u001b[0mget_linalg_error_extobj\u001b[0m\u001b[0;34m(\u001b[0m\u001b[0mcallback\u001b[0m\u001b[0;34m)\u001b[0m\u001b[0;34m:\u001b[0m\u001b[0;34m\u001b[0m\u001b[0m\n",
      "\u001b[0;31mLinAlgError\u001b[0m: SVD did not converge"
     ]
    }
   ],
   "source": [
    "ans = problem.LRGeomCG()"
   ]
  },
  {
   "cell_type": "code",
   "execution_count": 84,
   "metadata": {},
   "outputs": [
    {
     "data": {
      "text/plain": [
       "18"
      ]
     },
     "execution_count": 84,
     "metadata": {},
     "output_type": "execute_result"
    }
   ],
   "source": [
    "a = np.array([[1, 2, 3], [4, 5, 6]])\n",
    "b = np.array([[1, 2, 3], [1, 0, 0]])\n",
    "np.trace(np.dot(a.T, b))"
   ]
  },
  {
   "cell_type": "code",
   "execution_count": 85,
   "metadata": {},
   "outputs": [
    {
     "data": {
      "text/plain": [
       "18"
      ]
     },
     "execution_count": 85,
     "metadata": {},
     "output_type": "execute_result"
    }
   ],
   "source": [
    "np.dot(a.ravel(order='F'), b.ravel(order='F'))"
   ]
  },
  {
   "cell_type": "code",
   "execution_count": null,
   "metadata": {},
   "outputs": [],
   "source": []
  },
  {
   "cell_type": "code",
   "execution_count": 42,
   "metadata": {},
   "outputs": [],
   "source": [
    "a = np.array([[1, 2, 3], [4, 5, 6]])\n",
    "b = a.ravel(order='F')"
   ]
  },
  {
   "cell_type": "code",
   "execution_count": 69,
   "metadata": {},
   "outputs": [
    {
     "data": {
      "text/plain": [
       "3"
      ]
     },
     "execution_count": 69,
     "metadata": {},
     "output_type": "execute_result"
    }
   ],
   "source": [
    "np.maximum(0, 3)"
   ]
  },
  {
   "cell_type": "code",
   "execution_count": null,
   "metadata": {},
   "outputs": [],
   "source": []
  }
 ],
 "metadata": {
  "kernelspec": {
   "display_name": "Python 3",
   "language": "python",
   "name": "python3"
  },
  "language_info": {
   "codemirror_mode": {
    "name": "ipython",
    "version": 3
   },
   "file_extension": ".py",
   "mimetype": "text/x-python",
   "name": "python",
   "nbconvert_exporter": "python",
   "pygments_lexer": "ipython3",
   "version": "3.6.3"
  }
 },
 "nbformat": 4,
 "nbformat_minor": 2
}
