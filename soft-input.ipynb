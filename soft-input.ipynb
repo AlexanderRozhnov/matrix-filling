{
 "cells": [
  {
   "cell_type": "code",
   "execution_count": 441,
   "metadata": {
    "collapsed": true
   },
   "outputs": [],
   "source": [
    "import numpy as np\n",
    "import scipy.sparse.linalg as spla\n",
    "import scipy.sparse as sparse\n",
    "\n",
    "class SoftInput():\n",
    "    def __init__(self, X):\n",
    "        self.X = X\n",
    "        self.nonzero = self.X.nonzero()\n",
    "        \n",
    "    def fit(self, lambdas, maxiter, tol=1e-6, start_rank=100):\n",
    "        self.rank = start_rank\n",
    "        self.tol = tol\n",
    "        self.lambdas = np.sort(lambdas)[::-1]\n",
    "        self.Z_old = sparse.csr_matrix(self.X.shape)\n",
    "        self.S_old = np.zeros((self.rank,))\n",
    "        self.U_old = np.zeros((self.X.shape[0], self.rank))\n",
    "        self.Vt_old = np.zeros((self.rank, self.X.shape[1]))\n",
    "        \n",
    "        self.filled = []\n",
    "        \n",
    "        for l in self.lambdas:\n",
    "            for i in range(maxiter):\n",
    "                proj_data = np.array(self.Z_old[self.nonzero]).flatten()\n",
    "                self.Z_proj = sparse.csr_matrix((proj_data, self.nonzero), shape=self.X.shape)\n",
    "                lin_op = spla.LinearOperator(self.X.shape,\n",
    "                                             matvec=self.matvec,\n",
    "                                             rmatvec=self.rmatvec)\n",
    "                U, S, Vt = spla.svds(lin_op, self.rank)\n",
    "                S -= l\n",
    "                S = S[S > 0]\n",
    "                self.rank = S.shape[0]\n",
    "                U = U[:, :self.rank]\n",
    "                Vt = Vt[:self.rank, :]\n",
    "                self.U_old = U\n",
    "                self.Vt_old = Vt\n",
    "                self.S_old = S\n",
    "                self.Z_new = U.dot(np.diag(S).dot(Vt))\n",
    "                if (np.linalg.norm(self.Z_new - self.Z_old) ** 2 / np.linalg.norm(self.Z_new) ** 2 < self.tol):\n",
    "                    self.Z_old = self.Z_new\n",
    "                    break\n",
    "                self.Z_old = self.Z_new\n",
    "            self.filled.append(self.Z_old)\n",
    "        \n",
    "        return self.lambdas, self.filled\n",
    "\n",
    "    def matvec(self, vec):\n",
    "        res = self.X.dot(vec) - self.Z_proj.dot(vec)\n",
    "        res += self.U_old.dot(np.diag(self.S_old).dot(self.Vt_old.dot(vec)))\n",
    "        return res\n",
    "    \n",
    "    def rmatvec(self, vec):\n",
    "        res = self.X.T.dot(vec) - self.Z_proj.T.dot(vec)\n",
    "        res += self.Vt_old.T.dot(np.diag(self.S_old).dot(self.U_old.T.dot(vec)))\n",
    "        return res\n"
   ]
  },
  {
   "cell_type": "code",
   "execution_count": 399,
   "metadata": {
    "collapsed": true
   },
   "outputs": [],
   "source": [
    "import matplotlib.pyplot as plt\n",
    "from PIL import Image"
   ]
  },
  {
   "cell_type": "code",
   "execution_count": 400,
   "metadata": {
    "collapsed": true
   },
   "outputs": [],
   "source": [
    "img = np.array(Image.open('test.png'), dtype=np.float64)[:, :, 0]"
   ]
  },
  {
   "cell_type": "code",
   "execution_count": 401,
   "metadata": {},
   "outputs": [],
   "source": [
    "img[img == 0] = 100"
   ]
  },
  {
   "cell_type": "code",
   "execution_count": 361,
   "metadata": {},
   "outputs": [
    {
     "data": {
      "image/png": "[encoded data removed]",
      "text/plain": [
       "<matplotlib.figure.Figure at 0x7f545b00e198>"
      ]
     },
     "metadata": {},
     "output_type": "display_data"
    }
   ],
   "source": [
    "plt.imshow(img)\n",
    "plt.show()"
   ]
  },
  {
   "cell_type": "code",
   "execution_count": 380,
   "metadata": {},
   "outputs": [],
   "source": [
    "rows = np.array([], dtype=np.int)\n",
    "cols = np.array([], dtype=np.int)\n",
    "\n",
    "k_vals = np.array([-100, -50, -25, -10, -5, 0, 5, 10, 25, 50, 100, 1, 2, 3, -1, -2, -3], dtype=np.int)\n",
    "\n",
    "for k in k_vals:\n",
    "    A = sparse.eye(m=img.shape[0], n=img.shape[1], k=k)\n",
    "    rows_ind, cols_ind = A.nonzero()\n",
    "    rows = np.append(rows, rows_ind)\n",
    "    cols = np.append(cols, cols_ind)\n",
    "    \n",
    "X = sparse.csr_matrix((img[(rows, cols)], (rows, cols)), shape=img.shape)"
   ]
  },
  {
   "cell_type": "code",
   "execution_count": 442,
   "metadata": {},
   "outputs": [
    {
     "data": {
      "text/plain": [
       "<100x100 sparse matrix of type '<class 'numpy.float64'>'\n",
       "\twith 1000 stored elements (20 diagonals) in DIAgonal format>"
      ]
     },
     "execution_count": 442,
     "metadata": {},
     "output_type": "execute_result"
    }
   ],
   "source": [
    "diags = np.arange(-99, 100, 10)\n",
    "X = sparse.diags(diagonals=np.ones(diags.size), offsets=diags, shape=(100, 100))\n",
    "X"
   ]
  },
  {
   "cell_type": "code",
   "execution_count": 443,
   "metadata": {},
   "outputs": [],
   "source": [
    "soft_input = SoftInput(X)"
   ]
  },
  {
   "cell_type": "code",
   "execution_count": 450,
   "metadata": {},
   "outputs": [
    {
     "name": "stdout",
     "output_type": "stream",
     "text": [
      "[ 0.  2.]\n"
     ]
    }
   ],
   "source": [
    "lambdas = np.linspace(0, 2, 2)\n",
    "print(lambdas)\n",
    "lambdas, approximations = soft_input.fit(lambdas=lambdas, maxiter=2000, start_rank=50, tol=1e-6)"
   ]
  },
  {
   "cell_type": "code",
   "execution_count": 445,
   "metadata": {},
   "outputs": [
    {
     "data": {
      "text/plain": [
       "<100x100 sparse matrix of type '<class 'numpy.float64'>'\n",
       "\twith 1000 stored elements (20 diagonals) in DIAgonal format>"
      ]
     },
     "execution_count": 445,
     "metadata": {},
     "output_type": "execute_result"
    }
   ],
   "source": [
    "X"
   ]
  },
  {
   "cell_type": "code",
   "execution_count": 451,
   "metadata": {},
   "outputs": [
    {
     "data": {
      "image/png": "[encoded data removed]",
      "text/plain": [
       "<matplotlib.figure.Figure at 0x7f545b00e358>"
      ]
     },
     "metadata": {},
     "output_type": "display_data"
    }
   ],
   "source": [
    "plt.figure(figsize=(16, 8))\n",
    "\n",
    "plt.subplot(121)\n",
    "plt.imshow(X.toarray())\n",
    "\n",
    "\n",
    "\n",
    "plt.subplot(122)\n",
    "plt.imshow(approximations[0])\n",
    "plt.show()"
   ]
  },
  {
   "cell_type": "code",
   "execution_count": 389,
   "metadata": {},
   "outputs": [
    {
     "data": {
      "text/plain": [
       "47"
      ]
     },
     "execution_count": 389,
     "metadata": {},
     "output_type": "execute_result"
    }
   ],
   "source": [
    "np.linalg.matrix_rank(approximations[0])"
   ]
  },
  {
   "cell_type": "code",
   "execution_count": 370,
   "metadata": {},
   "outputs": [
    {
     "data": {
      "text/plain": [
       "array([[ -1.64972003e-17,   4.11444709e-17,   1.55854184e-17, ...,\n",
       "          2.49568175e-17,   7.79409361e-18,   1.75683333e-17],\n",
       "       [ -6.24909648e-18,   1.55854184e-17,   5.90371587e-18, ...,\n",
       "          9.45357744e-18,   2.95238235e-18,   6.65483886e-18],\n",
       "       [  2.58592322e-17,  -6.44936358e-17,  -2.44300212e-17, ...,\n",
       "         -3.91196159e-17,  -1.22171807e-17,  -2.75382248e-17],\n",
       "       ..., \n",
       "       [ -3.12510334e-18,   7.79409361e-18,   2.95238235e-18, ...,\n",
       "          4.72762847e-18,   1.47645343e-18,   3.32801057e-18],\n",
       "       [ -7.04416186e-18,   1.75683333e-17,   6.65483886e-18, ...,\n",
       "          1.06563453e-17,   3.32801057e-18,   7.50152638e-18],\n",
       "       [  6.61468264e-18,  -1.64972003e-17,  -6.24909648e-18, ...,\n",
       "         -1.00066329e-17,  -3.12510334e-18,  -7.04416186e-18]])"
      ]
     },
     "execution_count": 370,
     "metadata": {},
     "output_type": "execute_result"
    }
   ],
   "source": [
    "approximations[0]"
   ]
  },
  {
   "cell_type": "code",
   "execution_count": null,
   "metadata": {
    "collapsed": true
   },
   "outputs": [],
   "source": []
  }
 ],
 "metadata": {
  "kernelspec": {
   "display_name": "Python 3",
   "language": "python",
   "name": "python3"
  },
  "language_info": {
   "codemirror_mode": {
    "name": "ipython",
    "version": 3
   },
   "file_extension": ".py",
   "mimetype": "text/x-python",
   "name": "python",
   "nbconvert_exporter": "python",
   "pygments_lexer": "ipython3",
   "version": "3.6.2"
  }
 },
 "nbformat": 4,
 "nbformat_minor": 2
}
